{
 "cells": [
  {
   "cell_type": "code",
   "execution_count": 32,
   "metadata": {},
   "outputs": [
    {
     "name": "stdout",
     "output_type": "stream",
     "text": [
      "4 4 4 4 4 4 4 4 4 \n",
      "4 3 3 3 3 3 3 3 4 \n",
      "4 3 2 2 2 2 2 3 4 \n",
      "4 3 2 1 1 1 2 3 4 \n",
      "4 3 2 1 0 1 2 3 4 \n",
      "4 3 2 1 1 1 2 3 4 \n",
      "4 3 2 2 2 2 2 3 4 \n",
      "4 3 3 3 3 3 3 3 4 \n",
      "4 4 4 4 4 4 4 4 4 \n"
     ]
    },
    {
     "data": {
      "image/png": "[encoded data removed]",
      "text/plain": [
       "<Figure size 432x288 with 1 Axes>"
      ]
     },
     "metadata": {
      "needs_background": "light"
     },
     "output_type": "display_data"
    }
   ],
   "source": [
    "import numpy as np\n",
    "from PIL import Image\n",
    "import matplotlib.pyplot as plt\n",
    "def printPattern(n):\n",
    "\n",
    "    arraySize = n * 2 - 1;\n",
    "    result = [[0 for x in range(arraySize)]\n",
    "                 for y in range(arraySize)];\n",
    "         \n",
    "    # Fill the values\n",
    "    for i in range(arraySize):\n",
    "        for j in range(arraySize):\n",
    "            if(abs(i - (arraySize // 2)) >\n",
    "               abs(j - (arraySize // 2))):\n",
    "                result[i][j] = abs(i - (arraySize // 2));\n",
    "            else:\n",
    "                result[i][j] = abs(j - (arraySize // 2));\n",
    "             \n",
    "    # Print the array\n",
    "    for i in range(arraySize):\n",
    "        for j in range(arraySize):\n",
    "            print(result[i][j], end = \" \");\n",
    "        print(\"\");\n",
    " \n",
    "# Driver Code\n",
    "n = 5;\n",
    "printPattern(n);\n",
    "w, h = n,n\n",
    "arraySize = np.zeros((h, w, 3))#dtype=np.uint8)\n",
    "arraySize[0:1 , 0:1] = [255,255,0] # red patch in upper left\n",
    "arraySize[1:2, 1:2] = [255, 0,255]\n",
    "arraySize[2:3, 2:0] = [255,255,0]\n",
    "arraySize[0:n, 0:n] =[0,255,0] \n",
    "arraySize[0:n, 0:n] = [255, 0,0]\n",
    "img = Image.fromarray(arraySize, 'RGB')\n",
    "plt.imshow(img)\n",
    "plt.show()\n",
    "#img.save('my.png')\n",
    "#img.show()"
   ]
  },
  {
   "cell_type": "code",
   "execution_count": 35,
   "metadata": {},
   "outputs": [
    {
     "name": "stdout",
     "output_type": "stream",
     "text": [
      "4 4 4 4 4 4 4 4 4 \n",
      "4 3 3 3 3 3 3 3 4 \n",
      "4 3 2 2 2 2 2 3 4 \n",
      "4 3 2 1 1 1 2 3 4 \n",
      "4 3 2 1 0 1 2 3 4 \n",
      "4 3 2 1 1 1 2 3 4 \n",
      "4 3 2 2 2 2 2 3 4 \n",
      "4 3 3 3 3 3 3 3 4 \n",
      "4 4 4 4 4 4 4 4 4 \n"
     ]
    },
    {
     "data": {
      "image/png": "[encoded data removed]",
      "text/plain": [
       "<Figure size 432x288 with 1 Axes>"
      ]
     },
     "metadata": {
      "needs_background": "light"
     },
     "output_type": "display_data"
    }
   ],
   "source": [
    "import numpy as np\n",
    "from PIL import Image\n",
    "import matplotlib.pyplot as plt\n",
    "def printPattern(n):\n",
    "\n",
    "    arraySize = n * 2 - 1;\n",
    "    result = [[0 for x in range(arraySize)]\n",
    "                 for y in range(arraySize)];\n",
    "         \n",
    "    # Fill the values\n",
    "    for i in range(arraySize):\n",
    "        for j in range(arraySize):\n",
    "            if(abs(i - (arraySize // 2)) >\n",
    "               abs(j - (arraySize // 2))):\n",
    "                result[i][j] = abs(i - (arraySize // 2));\n",
    "            else:\n",
    "                result[i][j] = abs(j - (arraySize // 2));\n",
    "             \n",
    "    # Print the array\n",
    "    for i in range(arraySize):\n",
    "        for j in range(arraySize):\n",
    "            print(result[i][j], end = \" \");\n",
    "        print(\"\");\n",
    " \n",
    "# Driver Code\n",
    "n = 5;\n",
    "printPattern(n);\n",
    "w, h = n,n\n",
    "arraySize = np.zeros((h, w, 3))\n",
    "for i in range(0,n):\n",
    "    arraySize[0:(n-1) ,0:(n-1)] = [255,255,0] \n",
    "img = Image.fromarray(arraySize, 'RGB')\n",
    "plt.imshow(img)\n",
    "plt.show()    "
   ]
  },
  {
   "cell_type": "code",
   "execution_count": null,
   "metadata": {},
   "outputs": [],
   "source": []
  }
 ],
 "metadata": {
  "kernelspec": {
   "display_name": "Python 3",
   "language": "python",
   "name": "python3"
  },
  "language_info": {
   "codemirror_mode": {
    "name": "ipython",
    "version": 3
   },
   "file_extension": ".py",
   "mimetype": "text/x-python",
   "name": "python",
   "nbconvert_exporter": "python",
   "pygments_lexer": "ipython3",
   "version": "3.8.5"
  }
 },
 "nbformat": 4,
 "nbformat_minor": 4
}
