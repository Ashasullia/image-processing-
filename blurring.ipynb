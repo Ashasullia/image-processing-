{
 "cells": [
  {
   "cell_type": "code",
   "execution_count": null,
   "metadata": {},
   "outputs": [],
   "source": [
    "import cv2\n",
    "import numpy as np\n",
    "\n",
    "image=cv2.imread(\"a1.jpg\")\n",
    "cv2.imshow(\"original image\",image)\n",
    "cv2.waitKey(0)\n",
    "\n",
    "Gaussian=cv2.GaussianBlur(image,(7,7),0)\n",
    "cv2.imshow(\"Gaussian blurring\",Gaussian)\n",
    "cv2.waitKey(0)\n",
    "\n",
    "median=cv2.medianBlur(image,5)\n",
    "cv2.imshow(\"median blurring\",median)\n",
    "cv2.waitKey(0)\n",
    "\n",
    "\n",
    "bilateral=cv2.bilateralFliter(image,9,75,75)\n",
    "cv2.imshow(\"bilateral blurring\",bilateral)\n",
    "cv2.waitKey(0)\n",
    "cv2.destroyAllWindows()\n"
   ]
  },
  {
   "cell_type": "code",
   "execution_count": null,
   "metadata": {},
   "outputs": [],
   "source": [
    "import cv2\n",
    "import numpy as np\n",
    "\n",
    "image=cv2.imread(\"a1.jpg\")\n",
    "cv2.imshow(\"original image\",image)\n",
    "cv2.waitKey(0)\n",
    "\n",
    "Gaussian=cv2.GaussianBlur(image,(7,7),0)\n",
    "cv2.imshow(\"Gaussian blurring\",Gaussian)\n",
    "cv2.waitKey(0)\n",
    "\n",
    "median=cv2.medianBlur(image,5)\n",
    "cv2.imshow(\"median blurring\",median)\n",
    "cv2.waitKey(0)\n",
    "\n",
    "\n",
    "bilateral=cv2.bilateralFliter(image,9,75,75)\n",
    "cv2.imshow(\"bilateral blurring\",bilateral)\n",
    "cv2.waitKey(0)\n",
    "cv2.destroyAllWindows()\n"
   ]
  },
  {
   "cell_type": "code",
   "execution_count": null,
   "metadata": {},
   "outputs": [],
   "source": []
  }
 ],
 "metadata": {
  "kernelspec": {
   "display_name": "Python 3",
   "language": "python",
   "name": "python3"
  },
  "language_info": {
   "codemirror_mode": {
    "name": "ipython",
    "version": 3
   },
   "file_extension": ".py",
   "mimetype": "text/x-python",
   "name": "python",
   "nbconvert_exporter": "python",
   "pygments_lexer": "ipython3",
   "version": "3.8.5"
  }
 },
 "nbformat": 4,
 "nbformat_minor": 4
}
